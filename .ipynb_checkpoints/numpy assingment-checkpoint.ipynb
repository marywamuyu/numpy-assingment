{
 "cells": [
  {
   "cell_type": "code",
   "execution_count": 1,
   "id": "ebd01358",
   "metadata": {},
   "outputs": [
    {
     "name": "stdout",
     "output_type": "stream",
     "text": [
      "Requirement already satisfied: numpy in c:\\users\\hp\\anaconda3\\lib\\site-packages (1.23.5)\n"
     ]
    }
   ],
   "source": [
    "!pip install numpy"
   ]
  },
  {
   "cell_type": "code",
   "execution_count": 3,
   "id": "96af4d9d",
   "metadata": {},
   "outputs": [],
   "source": [
    "import numpy as np"
   ]
  },
  {
   "cell_type": "code",
   "execution_count": 4,
   "id": "5253b5e8",
   "metadata": {},
   "outputs": [
    {
     "name": "stdout",
     "output_type": "stream",
     "text": [
      "mean: 166.7\n"
     ]
    }
   ],
   "source": [
    "heights = np.array([160, 155, 172, 165, 180, 158, 175, 163, 171, 168])\n",
    "mean=np.mean(heights)\n",
    "print(\"mean:\",mean)"
   ]
  },
  {
   "cell_type": "code",
   "execution_count": 5,
   "id": "7a8e8f05",
   "metadata": {},
   "outputs": [
    {
     "name": "stdout",
     "output_type": "stream",
     "text": [
      "median 166.5\n"
     ]
    }
   ],
   "source": [
    "median=np.median(heights)\n",
    "print(\"median\",median)"
   ]
  },
  {
   "cell_type": "code",
   "execution_count": 6,
   "id": "27826bf6",
   "metadata": {},
   "outputs": [
    {
     "name": "stdout",
     "output_type": "stream",
     "text": [
      "standard deviation: 7.5372408744845085\n"
     ]
    }
   ],
   "source": [
    "std_dev=np.std(heights)\n",
    "print(\"standard deviation:\",std_dev)"
   ]
  },
  {
   "cell_type": "code",
   "execution_count": 10,
   "id": "17f1553e",
   "metadata": {},
   "outputs": [
    {
     "name": "stdout",
     "output_type": "stream",
     "text": [
      "Normalized Heights: [-0.88891945 -1.55229217  0.70317509 -0.22554673  1.76457144 -1.15426854\n",
      "  1.10119872 -0.49089581  0.57050054  0.17247691]\n"
     ]
    }
   ],
   "source": [
    "normalized_heights = (heights - mean) / std_dev\n",
    "print(\"Normalized Heights:\", normalized_heights)\n"
   ]
  },
  {
   "cell_type": "code",
   "execution_count": 15,
   "id": "2a47270f",
   "metadata": {},
   "outputs": [
    {
     "name": "stdout",
     "output_type": "stream",
     "text": [
      "tallest : 4\n"
     ]
    }
   ],
   "source": [
    "heights_argmax=np.argmax(heights)\n",
    "print(\"tallest :\",heights_argmax)"
   ]
  },
  {
   "cell_type": "code",
   "execution_count": 17,
   "id": "47e4e406",
   "metadata": {},
   "outputs": [
    {
     "name": "stdout",
     "output_type": "stream",
     "text": [
      "shortest: 1\n"
     ]
    }
   ],
   "source": [
    "heights_argmin=np.argmin(heights)\n",
    "print(\"shortest:\",heights_argmin)"
   ]
  },
  {
   "cell_type": "code",
   "execution_count": 22,
   "id": "29ed041d",
   "metadata": {},
   "outputs": [
    {
     "name": "stdout",
     "output_type": "stream",
     "text": [
      "heights difference: 25\n"
     ]
    }
   ],
   "source": [
    "heights_diff = heights[heights_argmax] - heights[heights_argmin]\n",
    "print(\"heights difference:\",heights_diff)\n"
   ]
  },
  {
   "cell_type": "code",
   "execution_count": 23,
   "id": "8fd314cb",
   "metadata": {},
   "outputs": [
    {
     "name": "stdout",
     "output_type": "stream",
     "text": [
      "Random heights: [163 155 171 158 160]\n"
     ]
    }
   ],
   "source": [
    "np.random.seed(20) \n",
    "random_selection = np.random.choice(heights, size=5, replace=False)\n",
    "print(\"Random heights:\", random_selection)"
   ]
  },
  {
   "cell_type": "code",
   "execution_count": null,
   "id": "08ce6585",
   "metadata": {},
   "outputs": [],
   "source": []
  }
 ],
 "metadata": {
  "kernelspec": {
   "display_name": "Python 3 (ipykernel)",
   "language": "python",
   "name": "python3"
  },
  "language_info": {
   "codemirror_mode": {
    "name": "ipython",
    "version": 3
   },
   "file_extension": ".py",
   "mimetype": "text/x-python",
   "name": "python",
   "nbconvert_exporter": "python",
   "pygments_lexer": "ipython3",
   "version": "3.10.9"
  }
 },
 "nbformat": 4,
 "nbformat_minor": 5
}
